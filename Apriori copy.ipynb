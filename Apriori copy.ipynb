{
 "cells": [
  {
   "cell_type": "code",
   "execution_count": 1,
   "id": "224341be-0b21-42f1-9d2a-045f817b1b06",
   "metadata": {},
   "outputs": [],
   "source": [
    "import pandas as pd \n",
    "import math"
   ]
  },
  {
   "cell_type": "code",
   "execution_count": 2,
   "id": "e53b829d-7fde-47d9-b9a8-4b3338558fde",
   "metadata": {},
   "outputs": [],
   "source": [
    "def tran_to_list(df):\n",
    "\n",
    "    df = df.sort_values(by='TransactionNo', ascending=False)\n",
    "    prev=-1\n",
    "    list= []\n",
    "\n",
    "    trans=[]\n",
    "    for _, row in df.iterrows():\n",
    "        if(row[\"TransactionNo\"]!=prev and prev!=-1):\n",
    "            trans.append(list)\n",
    "            list=[]\n",
    "            list.append(row[\"Items\"])\n",
    "            prev=row[\"TransactionNo\"]\n",
    "            \n",
    "        if not (contains(list,[row[\"Items\"]])):\n",
    "            list.append(row[\"Items\"])\n",
    "            prev=row[\"TransactionNo\"]\n",
    "    \n",
    "    trans.append(list)\n",
    "\n",
    "    return trans"
   ]
  },
  {
   "cell_type": "code",
   "execution_count": 3,
   "id": "f2075a2f-109c-4648-80f4-561161e4fe55",
   "metadata": {},
   "outputs": [],
   "source": [
    "def generate_combinations(arr, r):\n",
    "    \"\"\"\n",
    "    Generates combinations of length 'r' from the given array 'arr'\n",
    "    \"\"\"\n",
    "    n = len(arr)\n",
    "    # Base case: if r is 0 or greater than length of arr\n",
    "    if r == 0 or r > n:\n",
    "        return [[]]\n",
    "    # Base case: if r is equal to length of arr\n",
    "    if r == n:\n",
    "        return [arr]\n",
    "\n",
    "    # Recursive case\n",
    "    combinations = []\n",
    "\n",
    "    # Generate combinations including the first element\n",
    "    for comb in generate_combinations(arr[1:], r - 1):\n",
    "        combinations.append([arr[0]] + comb)\n",
    "\n",
    "    # Generate combinations excluding the first element\n",
    "    combinations.extend(generate_combinations(arr[1:], r))\n",
    "\n",
    "    return combinations"
   ]
  },
  {
   "cell_type": "code",
   "execution_count": 4,
   "id": "3eb7ba31-0f4e-4108-a204-daa1e8399229",
   "metadata": {},
   "outputs": [],
   "source": [
    "def contains(larger, smaller):\n",
    "    \n",
    "    for i in smaller:\n",
    "        flag=0\n",
    "        for k in larger:\n",
    "            if(i==k):\n",
    "                flag=1\n",
    "                break\n",
    "        if(flag==0):\n",
    "            return False\n",
    "    return True\n",
    "            \n"
   ]
  },
  {
   "cell_type": "code",
   "execution_count": 5,
   "id": "f840f8bf-72d7-4f37-a5f1-a3158f84b258",
   "metadata": {},
   "outputs": [],
   "source": [
    "#combination of l \n",
    "def com_PL(L_initial,prev_to_remove,num):\n",
    "    l1=[]\n",
    "    for i in range(len(L_initial)):\n",
    "        for j in range(i+1,len(L_initial)):\n",
    "            list=[]\n",
    "            all=[]\n",
    "            list.extend(L_initial[i])\n",
    "            list.extend(L_initial[j])\n",
    "            unique_list = []\n",
    "            \n",
    "            # Iterate over the original list\n",
    "            for item in list:\n",
    "                # Check if the item is not already in the unique_list\n",
    "                if item not in unique_list:\n",
    "                    # Append the item to the unique_list\n",
    "                    unique_list.append(item)\n",
    "            \n",
    "            all = generate_combinations(unique_list,num)\n",
    "            for com in all:\n",
    "                add = 1 \n",
    "                #search in the non frequent set\n",
    "                for k in prev_to_remove:\n",
    "                    if(contains(com,k)):\n",
    "                        add=0\n",
    "                        break\n",
    "\n",
    "                if add:\n",
    "                    for kok in l1:\n",
    "                            if(contains(kok,com)):\n",
    "                                add=0\n",
    "                                break\n",
    "                if (add):   \n",
    "                    l1.extend([com])\n",
    "    return l1"
   ]
  },
  {
   "cell_type": "code",
   "execution_count": 6,
   "id": "a1dfc3dc-cade-498a-b4f8-8ca2f37e9e35",
   "metadata": {},
   "outputs": [],
   "source": [
    "# count for Ls\n",
    "def trans_count(combinations,trans,msl):\n",
    "    to_remove=[]\n",
    "    L_initial=[]\n",
    "    L_initial_pair=[]\n",
    "    flag=0\n",
    "    for com in combinations :\n",
    "        count=0\n",
    "        #print(com)\n",
    "        for row in trans:\n",
    "            if(len(com)<=len(row)):\n",
    "                if contains(row,com):\n",
    "                    count+=1\n",
    "    \n",
    "        if(count>=msl):\n",
    "            L_initial_pair.append([com, count])\n",
    "            #print([com, count])\n",
    "            L_initial.append(com)\n",
    "            flag=1\n",
    "        else:\n",
    "            #for the next L\n",
    "            to_remove.append(com)\n",
    "            \n",
    "    return to_remove,L_initial,L_initial_pair,flag"
   ]
  },
  {
   "cell_type": "code",
   "execution_count": 7,
   "id": "6be2d3a4-0855-4bb8-93c2-b1b7e976e6fd",
   "metadata": {},
   "outputs": [],
   "source": [
    "def frequentItemsSets(unique_values_per_column,trans,ms):\n",
    "    Ls=[]\n",
    "    count=1\n",
    "    flag =1\n",
    "    prev_l=unique_values_per_column\n",
    "    prev_to_remove=[]\n",
    "    while(flag):\n",
    "        prev_l =com_PL(prev_l,prev_to_remove,count)\n",
    "        prev_to_remove,prev_l,L,flag =trans_count(prev_l,trans,ms)\n",
    "        if(flag):\n",
    "            Ls.append(L)\n",
    "            count+=1\n",
    "    return Ls"
   ]
  },
  {
   "cell_type": "code",
   "execution_count": 8,
   "id": "2a0909c4-e166-4289-976a-8d70f06651c6",
   "metadata": {},
   "outputs": [],
   "source": [
    "def confidence(freqsets, mcl):\n",
    "    all_conf = []\n",
    "    for i in range(1, len(freqsets)):\n",
    "        current = freqsets[i]\n",
    "        #loop over each item\n",
    "        for pair in current:\n",
    "            list = pair[0]\n",
    "            count = pair[1]\n",
    "            bcount = len(pair[0]) - 1\n",
    "            for fcount in range(1, len(list)):\n",
    "                if (fcount > bcount):\n",
    "                    break\n",
    "                combs = generate_combinations(list, fcount)\n",
    "                for comb in combs:\n",
    "                    for pp in freqsets[len(comb) - 1]:\n",
    "                        if (contains(comb, pp[0])):\n",
    "                            conf = count / pp[1]\n",
    "                            if (conf >= mcl):\n",
    "                                difference = [item for item in list if item not in pp[0]]\n",
    "                                all_conf.append([pp[0], difference, round(conf, 2)])\n",
    "                            break\n",
    "    return all_conf"
   ]
  },
  {
   "cell_type": "code",
   "execution_count": 9,
   "id": "7fc71e8d-c1f0-4fa6-9379-83ed0fb9aa05",
   "metadata": {},
   "outputs": [],
   "source": [
    "def apriori(msl,mcl,data):\n",
    "\n",
    "    # combining all the transactions into a list of lists \n",
    "    tran= tran_to_list(data)\n",
    "\n",
    "    unique_values_per_column =data[\"Items\"].unique().tolist()\n",
    "    for i in range(len(unique_values_per_column)):\n",
    "        unique_values_per_column[i]= [unique_values_per_column[i]]\n",
    "\n",
    "    ms= msl\n",
    "    print(ms)\n",
    "    \n",
    "    Freqentsets = frequentItemsSets(unique_values_per_column,tran,ms)\n",
    "\n",
    "    all_conff=confidence(Freqentsets,mcl)\n",
    "        \n",
    "    \n",
    "    return all_conff,Freqentsets"
   ]
  },
  {
   "cell_type": "code",
   "execution_count": null,
   "id": "6dc41546-6b2b-4f43-a256-d7837b9c8c83",
   "metadata": {},
   "outputs": [],
   "source": []
  },
  {
   "cell_type": "code",
   "execution_count": 10,
   "id": "6687f394-900d-4f55-9eec-42a2547e7189",
   "metadata": {},
   "outputs": [
    {
     "data": {
      "text/html": [
       "<div>\n",
       "<style scoped>\n",
       "    .dataframe tbody tr th:only-of-type {\n",
       "        vertical-align: middle;\n",
       "    }\n",
       "\n",
       "    .dataframe tbody tr th {\n",
       "        vertical-align: top;\n",
       "    }\n",
       "\n",
       "    .dataframe thead th {\n",
       "        text-align: right;\n",
       "    }\n",
       "</style>\n",
       "<table border=\"1\" class=\"dataframe\">\n",
       "  <thead>\n",
       "    <tr style=\"text-align: right;\">\n",
       "      <th></th>\n",
       "      <th>TransactionNo</th>\n",
       "      <th>Items</th>\n",
       "      <th>Daypart</th>\n",
       "      <th>DayType</th>\n",
       "    </tr>\n",
       "  </thead>\n",
       "  <tbody>\n",
       "    <tr>\n",
       "      <th>0</th>\n",
       "      <td>1</td>\n",
       "      <td>Bread</td>\n",
       "      <td>Morning</td>\n",
       "      <td>Weekend</td>\n",
       "    </tr>\n",
       "    <tr>\n",
       "      <th>1</th>\n",
       "      <td>2</td>\n",
       "      <td>Scandinavian</td>\n",
       "      <td>Morning</td>\n",
       "      <td>Weekend</td>\n",
       "    </tr>\n",
       "    <tr>\n",
       "      <th>2</th>\n",
       "      <td>2</td>\n",
       "      <td>Scandinavian</td>\n",
       "      <td>Morning</td>\n",
       "      <td>Weekend</td>\n",
       "    </tr>\n",
       "    <tr>\n",
       "      <th>3</th>\n",
       "      <td>3</td>\n",
       "      <td>Hot chocolate</td>\n",
       "      <td>Morning</td>\n",
       "      <td>Weekend</td>\n",
       "    </tr>\n",
       "    <tr>\n",
       "      <th>4</th>\n",
       "      <td>3</td>\n",
       "      <td>Jam</td>\n",
       "      <td>Morning</td>\n",
       "      <td>Weekend</td>\n",
       "    </tr>\n",
       "  </tbody>\n",
       "</table>\n",
       "</div>"
      ],
      "text/plain": [
       "   TransactionNo          Items  Daypart  DayType\n",
       "0              1          Bread  Morning  Weekend\n",
       "1              2   Scandinavian  Morning  Weekend\n",
       "2              2   Scandinavian  Morning  Weekend\n",
       "3              3  Hot chocolate  Morning  Weekend\n",
       "4              3            Jam  Morning  Weekend"
      ]
     },
     "execution_count": 10,
     "metadata": {},
     "output_type": "execute_result"
    }
   ],
   "source": [
    "data = pd.read_csv(\"/Users/faressaad/Downloads/Assignment1/Bakery.csv\")\n",
    "data.drop(columns=[\"DateTime\"],inplace=True)\n",
    "data.head(5)"
   ]
  },
  {
   "cell_type": "code",
   "execution_count": 11,
   "id": "e7126a36-98c2-45f6-8052-1b45b3d58fa6",
   "metadata": {},
   "outputs": [
    {
     "name": "stdout",
     "output_type": "stream",
     "text": [
      "[['Coffee'], ['Jam', 'Muffin', 'Bread', 'Juice', \"Ella's Kitchen Pouches\"], ['Coffee'], ['Medialuna', 'Hot chocolate', 'Coffee'], ['Coffee', 'Medialuna'], ['Fudge', 'Scandinavian'], ['Tea', 'Bread'], ['Scandinavian'], ['Muffin', 'Coffee', 'Tartine', 'Juice'], ['Scandinavian'], ['Tea', 'Bread'], ['Bread', 'Coffee'], ['Bread', 'Tea'], ['Scandinavian', 'Muffin'], ['Muffin', 'Coffee'], ['Coffee'], ['Scandinavian', 'Muffin'], ['Basket'], ['Bread'], ['Jam', 'Bread'], ['Bread', 'Coffee'], ['Scandinavian'], ['Fudge'], ['Scandinavian'], ['Bread'], ['Scandinavian', 'Muffin'], ['Jam'], ['Bread', 'Medialuna', 'Coffee'], ['Medialuna', 'Bread'], ['Bread', 'Farm House'], ['Farm House'], ['Hot chocolate'], ['Coffee', 'Medialuna', 'Bread'], ['Scandinavian', 'Mineral water'], ['Pastry', 'Medialuna', 'Bread'], ['Coffee', 'Bread', 'Basket'], ['Tea', 'Pastry', 'Tartine', 'Coffee', 'Jam'], ['Medialuna', 'Bread'], ['Scandinavian', 'Medialuna'], ['Muffin', 'Bread'], ['Bread', 'Pastry'], ['Medialuna', 'Coffee', 'Pastry', 'Tea'], ['Muffin', 'Pastry', 'Medialuna'], ['Bread', 'Pastry', 'Coffee'], ['Muffin'], ['Jam', 'Hot chocolate', 'Cookies'], ['Scandinavian'], ['Bread']]\n"
     ]
    }
   ],
   "source": [
    "print(tran_to_list(data[:100]))"
   ]
  },
  {
   "cell_type": "code",
   "execution_count": 15,
   "id": "ae069505-8d11-41bb-be4a-ea9cc6cbdd11",
   "metadata": {},
   "outputs": [
    {
     "name": "stdout",
     "output_type": "stream",
     "text": [
      "2\n"
     ]
    }
   ],
   "source": [
    "con,feq=apriori(2,.5,data[:100])"
   ]
  },
  {
   "cell_type": "code",
   "execution_count": 16,
   "id": "77e4a6c7-c398-4db4-9b97-f141735d2f40",
   "metadata": {},
   "outputs": [
    {
     "name": "stdout",
     "output_type": "stream",
     "text": [
      "[[[['Bread'], 20], [['Scandinavian'], 11], [['Hot chocolate'], 3], [['Jam'], 5], [['Muffin'], 9], [['Coffee'], 15], [['Pastry'], 6], [['Medialuna'], 10], [['Tea'], 5], [['Tartine'], 2], [['Basket'], 2], [['Farm House'], 2], [['Fudge'], 2], [['Juice'], 2]], [[['Bread', 'Jam'], 2], [['Bread', 'Muffin'], 2], [['Bread', 'Coffee'], 6], [['Bread', 'Pastry'], 3], [['Bread', 'Medialuna'], 5], [['Bread', 'Tea'], 3], [['Scandinavian', 'Muffin'], 3], [['Muffin', 'Coffee'], 2], [['Muffin', 'Juice'], 2], [['Coffee', 'Pastry'], 3], [['Coffee', 'Medialuna'], 5], [['Coffee', 'Tea'], 2], [['Coffee', 'Tartine'], 2], [['Pastry', 'Medialuna'], 3], [['Pastry', 'Tea'], 2]], [[['Bread', 'Coffee', 'Medialuna'], 2], [['Coffee', 'Pastry', 'Tea'], 2]]]\n"
     ]
    }
   ],
   "source": [
    "print(feq)"
   ]
  },
  {
   "cell_type": "code",
   "execution_count": 18,
   "id": "bb9e3374-e790-475c-9e7b-f0bf894f1ac6",
   "metadata": {},
   "outputs": [
    {
     "name": "stdout",
     "output_type": "stream",
     "text": [
      "[[['Pastry'], ['Bread'], 0.5], [['Medialuna'], ['Bread'], 0.5], [['Tea'], ['Bread'], 0.6], [['Juice'], ['Muffin'], 1.0], [['Pastry'], ['Coffee'], 0.5], [['Medialuna'], ['Coffee'], 0.5], [['Tartine'], ['Coffee'], 1.0], [['Pastry'], ['Medialuna'], 0.5], [['Coffee', 'Pastry'], ['Tea'], 0.67], [['Coffee', 'Tea'], ['Pastry'], 1.0], [['Pastry', 'Tea'], ['Coffee'], 1.0]]\n"
     ]
    }
   ],
   "source": [
    "print(con)"
   ]
  },
  {
   "cell_type": "code",
   "execution_count": null,
   "id": "ca432d02-a7c3-41fc-819b-8207b84708ec",
   "metadata": {},
   "outputs": [],
   "source": []
  }
 ],
 "metadata": {
  "kernelspec": {
   "display_name": "Python 3 (ipykernel)",
   "language": "python",
   "name": "python3"
  },
  "language_info": {
   "codemirror_mode": {
    "name": "ipython",
    "version": 3
   },
   "file_extension": ".py",
   "mimetype": "text/x-python",
   "name": "python",
   "nbconvert_exporter": "python",
   "pygments_lexer": "ipython3",
   "version": "3.9.6"
  }
 },
 "nbformat": 4,
 "nbformat_minor": 5
}
