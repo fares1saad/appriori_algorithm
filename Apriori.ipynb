{
 "cells": [
  {
   "cell_type": "code",
   "execution_count": 4,
   "id": "224341be-0b21-42f1-9d2a-045f817b1b06",
   "metadata": {},
   "outputs": [],
   "source": [
    "import pandas as pd \n",
    "import math"
   ]
  },
  {
   "cell_type": "code",
   "execution_count": 5,
   "id": "f2075a2f-109c-4648-80f4-561161e4fe55",
   "metadata": {},
   "outputs": [],
   "source": [
    "def generate_combinations(arr, r):\n",
    "    \"\"\"\n",
    "    Generates combinations of length 'r' from the given array 'arr'\n",
    "    \"\"\"\n",
    "    n = len(arr)\n",
    "    # Base case: if r is 0 or greater than length of arr\n",
    "    if r == 0 or r > n:\n",
    "        return [[]]\n",
    "    # Base case: if r is equal to length of arr\n",
    "    if r == n:\n",
    "        return [arr]\n",
    "\n",
    "    # Recursive case\n",
    "    combinations = []\n",
    "\n",
    "    # Generate combinations including the first element\n",
    "    for comb in generate_combinations(arr[1:], r - 1):\n",
    "        combinations.append([arr[0]] + comb)\n",
    "\n",
    "    # Generate combinations excluding the first element\n",
    "    combinations.extend(generate_combinations(arr[1:], r))\n",
    "\n",
    "    return combinations"
   ]
  },
  {
   "cell_type": "code",
   "execution_count": 6,
   "id": "00928984-0153-4aee-93a0-146846ee298d",
   "metadata": {},
   "outputs": [],
   "source": [
    "def contains(larger, smaller):\n",
    "  larger_iter = iter(larger)\n",
    "  return all(s in larger_iter for s in smaller)"
   ]
  },
  {
   "cell_type": "code",
   "execution_count": 7,
   "id": "eb843ad1-a895-458f-b9e4-d2c64efea069",
   "metadata": {},
   "outputs": [],
   "source": [
    "def remove_same_col(combinations):\n",
    "    new=[]\n",
    "    for i in range(len(combinations)) :\n",
    "        combinations[i].sort()\n",
    "        number =\"999\"\n",
    "        flag=1\n",
    "        for j in combinations[i]:\n",
    "            if(j[0]== number):\n",
    "                flag=0\n",
    "                break\n",
    "            else:\n",
    "                number=j[0]\n",
    "        if flag:\n",
    "            new.append(combinations[i])\n",
    "    return new"
   ]
  },
  {
   "cell_type": "code",
   "execution_count": 8,
   "id": "f840f8bf-72d7-4f37-a5f1-a3158f84b258",
   "metadata": {},
   "outputs": [],
   "source": [
    "#combination of l \n",
    "def com_PL(L_initial,prev_to_remove,num):\n",
    "    l1=[]\n",
    "    for i in range(len(L_initial)):\n",
    "        for j in range(i+1,len(L_initial)):\n",
    "            list=[]\n",
    "            all=[]\n",
    "            list.extend(L_initial[i])\n",
    "            list.extend(L_initial[j])\n",
    "            all = generate_combinations(list,num)\n",
    "            if(num>1):\n",
    "                all = remove_same_col(all)\n",
    "                #print(all)\n",
    "                #print(\"done\")\n",
    "            #all.unique()\n",
    "            for com in all:\n",
    "                add = 1 \n",
    "                #search in the non frequent set\n",
    "                for k in prev_to_remove:\n",
    "                    if(contains(com,k)):\n",
    "                        add=0\n",
    "                        break\n",
    "\n",
    "                if add:\n",
    "                    for kok in l1:\n",
    "                            if(contains(kok,com)):\n",
    "                                add=0\n",
    "                                break\n",
    "                if (add):   \n",
    "                    l1.extend([com])\n",
    "    return l1"
   ]
  },
  {
   "cell_type": "code",
   "execution_count": 9,
   "id": "a1dfc3dc-cade-498a-b4f8-8ca2f37e9e35",
   "metadata": {},
   "outputs": [],
   "source": [
    "# count for Ls\n",
    "def trans_count(combinations,trans,msl):\n",
    "    to_remove=[]\n",
    "    L_initial=[]\n",
    "    L_initial_pair=[]\n",
    "    flag=0\n",
    "    for com in combinations :\n",
    "        count=0    \n",
    "        for row in trans:\n",
    "            if(len(com)>len(row)):\n",
    "                flag=0\n",
    "                return to_remove,L_initial,L_initial_pair,flag\n",
    "            \n",
    "            if contains(row,com):\n",
    "                count+=1\n",
    "        if(count>=msl):\n",
    "            L_initial_pair.append([com, count])\n",
    "            #print(com)\n",
    "            L_initial.append(com)\n",
    "            flag=1\n",
    "        else:\n",
    "            #for the next L\n",
    "            to_remove.append(com)\n",
    "            \n",
    "    return to_remove,L_initial,L_initial_pair,flag"
   ]
  },
  {
   "cell_type": "code",
   "execution_count": 10,
   "id": "6be2d3a4-0855-4bb8-93c2-b1b7e976e6fd",
   "metadata": {},
   "outputs": [],
   "source": [
    "def frequentItemsSets(unique_values_per_column,trans,ms):\n",
    "    Ls=[]\n",
    "    count=1\n",
    "    flag =1\n",
    "    prev_l=unique_values_per_column\n",
    "    prev_to_remove=[]\n",
    "    while(flag):\n",
    "        #print(count)\n",
    "        prev_l =com_PL(prev_l,prev_to_remove,count)\n",
    "        #print(prev_l)\n",
    "        prev_to_remove,prev_l,L,flag =trans_count(prev_l,trans,ms)\n",
    "        #print(prev_l)\n",
    "        if(flag):\n",
    "            Ls.append(L)\n",
    "            count+=1\n",
    "    return Ls"
   ]
  },
  {
   "cell_type": "code",
   "execution_count": 41,
   "id": "5fb8c673-4539-4710-8a50-7ee6bb1b5509",
   "metadata": {},
   "outputs": [],
   "source": [
    "def confidence(freqsets,mcl):\n",
    "    all_conf=[]\n",
    "    for i in range(1,len(freqsets)):\n",
    "        current=freqsets[i]\n",
    "        #loop over each item\n",
    "        for pair in current:\n",
    "            list=pair[0]\n",
    "            count=pair[1]\n",
    "            bcount=len(pair[0])-1\n",
    "            for fcount in range(1,len(list)):\n",
    "                # if(fcount>bcount):\n",
    "                #     break\n",
    "                combs = generate_combinations(list,fcount)\n",
    "                for comb in combs:\n",
    "                    for pp in freqsets[len(comb)-1]:\n",
    "                        if(contains(comb,pp[0])):\n",
    "                            conf=count/pp[1]\n",
    "                            if(conf >= mcl):\n",
    "                                difference = [item for item in list if item not in pp[0]]\n",
    "                                all_conf.append([pp[0],difference,round(conf, 2)])\n",
    "                            break\n",
    "    return all_conf"
   ]
  },
  {
   "cell_type": "code",
   "execution_count": null,
   "id": "2a0909c4-e166-4289-976a-8d70f06651c6",
   "metadata": {},
   "outputs": [],
   "source": [
    "def confidence(freqsets,mcl):\n",
    "    all_conf=[]\n",
    "    for i in range(1,len(freqsets)):\n",
    "        current=freqsets[i]\n",
    "        #loop over each item\n",
    "        for pair in current:\n",
    "            list=pair[0]\n",
    "            count=pair[1]\n",
    "            bcount=len(pair[0])-1\n",
    "            for fcount in range(int(len(list)/2)):\n",
    "                combs = generate_combinations(list,fcount+1)\n",
    "                for comb in combs:\n",
    "                    for pp in freqsets[len(comb)-1]:\n",
    "                        if(contains(comb,pp[0])):\n",
    "                            conf=count/pp[1]\n",
    "                            if(conf >= mcl ):\n",
    "                                difference = [item for item in list if item not in pp[0]]\n",
    "                                all_conf.append([pp[0],difference,round(conf, 2)])\n",
    "                            break\n",
    "    return all_conf"
   ]
  },
  {
   "cell_type": "code",
   "execution_count": 35,
   "id": "7fc71e8d-c1f0-4fa6-9379-83ed0fb9aa05",
   "metadata": {},
   "outputs": [],
   "source": [
    "def apriori(msl,mcl,path):\n",
    "    data = pd.read_csv(path)\n",
    "    data.drop(columns=[\"TransactionNo\",\"DateTime\"],inplace=True)\n",
    "\n",
    "    #for adding col number to remove the combinations \n",
    "    for i, column in enumerate(data.columns):\n",
    "        data[column] = str(i) + data[column].astype(str)\n",
    "\n",
    "    # combining all the transactions into a list of lists \n",
    "    tran=[]\n",
    "    for _, row in data.iterrows():\n",
    "       tran.append(row.to_list())\n",
    "\n",
    "    # Combine all the unique values into a list\n",
    "    unique_values_per_column = []\n",
    "    for column_name in data.columns:\n",
    "        uni=data[column_name].unique().tolist()\n",
    "        unique_values_per_column.extend(uni)\n",
    "    for i in range(len(unique_values_per_column)):\n",
    "        unique_values_per_column[i]= [unique_values_per_column[i]]\n",
    "\n",
    "    ms= math.ceil(msl*len(tran))\n",
    "    print(ms)\n",
    "    Freqentsets = frequentItemsSets(unique_values_per_column,tran,ms)\n",
    "\n",
    "    all_conff=confidence(Freqentsets,mcl)\n",
    "        \n",
    "    \n",
    "    return all_conff"
   ]
  },
  {
   "cell_type": "code",
   "execution_count": 39,
   "id": "ae069505-8d11-41bb-be4a-ea9cc6cbdd11",
   "metadata": {},
   "outputs": [
    {
     "name": "stdout",
     "output_type": "stream",
     "text": [
      "21\n"
     ]
    }
   ],
   "source": [
    "sets=apriori(.001,.5,\"/Users/faressaad/Downloads/Assignment1/Bakery.csv\")"
   ]
  },
  {
   "cell_type": "code",
   "execution_count": 21,
   "id": "77e4a6c7-c398-4db4-9b97-f141735d2f40",
   "metadata": {},
   "outputs": [
    {
     "name": "stdout",
     "output_type": "stream",
     "text": [
      "[[['0Bread'], ['2Weekday'], 0.63], [['0Scandinavian'], ['2Weekend'], 0.52], [['0Hot chocolate'], ['1Afternoon'], 0.57], [['0Hot chocolate'], ['2Weekday'], 0.58], [['0Jam'], ['1Morning'], 0.54], [['0Jam'], ['2Weekday'], 0.58], [['0Cookies'], ['1Afternoon'], 0.58], [['0Cookies'], ['2Weekday'], 0.74], [['0Muffin'], ['1Afternoon'], 0.56], [['0Muffin'], ['2Weekday'], 0.58], [['0Coffee'], ['1Afternoon'], 0.52], [['0Coffee'], ['2Weekday'], 0.65], [['0Pastry'], ['1Morning'], 0.71], [['0Pastry'], ['2Weekday'], 0.66], [['0Medialuna'], ['1Morning'], 0.65], [['0Medialuna'], ['2Weekday'], 0.55], [['0Tea'], ['1Afternoon'], 0.65], [['0Tea'], ['2Weekday'], 0.68], [['0Tartine'], ['1Afternoon'], 0.57], [['0Tartine'], ['2Weekday'], 0.51], [['0Mineral water'], ['1Afternoon'], 0.82], [['0Mineral water'], ['2Weekday'], 0.63], [['0Farm House'], ['1Morning'], 0.56], [['0Farm House'], ['2Weekday'], 0.66], [['0Fudge'], ['1Afternoon'], 0.57], [['0Fudge'], ['2Weekday'], 0.62], [['0Juice'], ['1Afternoon'], 0.61], [['0Juice'], ['2Weekday'], 0.62], [['0Frittata'], ['1Afternoon'], 0.94], [['0Frittata'], ['2Weekend'], 0.68], [['0Hearty & Seasonal'], ['1Afternoon'], 0.92], [['0Hearty & Seasonal'], ['2Weekday'], 0.62], [['0Soup'], ['1Afternoon'], 0.95], [['0Soup'], ['2Weekday'], 0.78], [['0Smoothies'], ['1Afternoon'], 0.71], [['0Smoothies'], ['2Weekend'], 0.57], [['0Cake'], ['1Afternoon'], 0.71], [['0Cake'], ['2Weekday'], 0.6], [['0Coke'], ['1Afternoon'], 0.76], [['0Coke'], ['2Weekday'], 0.69], [['0Focaccia'], ['1Afternoon'], 0.57], [['0Focaccia'], ['2Weekend'], 0.57], [['0Sandwich'], ['1Afternoon'], 0.87], [['0Sandwich'], ['2Weekday'], 0.66], [['0Alfajores'], ['1Afternoon'], 0.66], [['0Alfajores'], ['2Weekday'], 0.63], [['0Brownie'], ['1Afternoon'], 0.66], [['0Brownie'], ['2Weekday'], 0.55], [['0Keeping It Local'], ['1Morning'], 0.78], [['0Keeping It Local'], ['2Weekday'], 0.73], [['0Art Tray'], ['1Afternoon'], 0.82], [['0Art Tray'], ['2Weekday'], 0.68], [['0Truffles'], ['1Afternoon'], 0.79], [['0Truffles'], ['2Weekday'], 0.64], [['0Jammie Dodgers'], ['1Afternoon'], 0.66], [['0Jammie Dodgers'], ['2Weekday'], 0.5], [['0Tiffin'], ['1Afternoon'], 0.64], [['0Tiffin'], ['2Weekday'], 0.57], [['0The Nomad'], ['1Afternoon'], 0.53], [['0The Nomad'], ['2Weekend'], 0.67], [['0Bakewell'], ['1Afternoon'], 0.62], [['0Bakewell'], ['2Weekday'], 0.6], [['0Toast'], ['1Morning'], 0.64], [['0Toast'], ['2Weekday'], 0.72], [['0Scone'], ['1Afternoon'], 0.65], [['0Scone'], ['2Weekend'], 0.62], [['0Vegan mincepie'], ['1Afternoon'], 0.56], [['0Vegan mincepie'], ['2Weekday'], 0.63], [['0Afternoon with the baker'], ['2Weekend'], 0.59], [['0Salad'], ['1Afternoon'], 0.9], [['0Salad'], ['2Weekday'], 0.68], [['0Chicken Stew'], ['1Afternoon'], 0.95], [['0Chicken Stew'], ['2Weekday'], 0.76], [['0Spanish Brunch'], ['1Afternoon'], 0.72], [['0Spanish Brunch'], ['2Weekend'], 0.59], [['0Extra Salami or Feta'], ['1Afternoon'], 0.68], [['0Baguette'], ['1Morning'], 0.55], [['0Baguette'], ['2Weekday'], 0.64], [['0Tshirt'], ['1Evening'], 1.0], [['0Tshirt'], ['2Weekend'], 1.0], [['1Morning'], ['2Weekday'], 0.62], [['2Weekend'], ['1Afternoon'], 0.56], [['1Afternoon'], ['2Weekday'], 0.63], [['2Weekday'], ['1Afternoon'], 0.57], [['1Evening'], ['2Weekday'], 0.68], [['0Keeping It Local'], ['1Morning', '2Weekday'], 0.6], [['0Mineral water'], ['1Afternoon', '2Weekday'], 0.52], [['0Frittata'], ['1Afternoon', '2Weekend'], 0.63], [['0Hearty & Seasonal'], ['1Afternoon', '2Weekday'], 0.6], [['0Soup'], ['1Afternoon', '2Weekday'], 0.75], [['0Coke'], ['1Afternoon', '2Weekday'], 0.55], [['0Sandwich'], ['1Afternoon', '2Weekday'], 0.57], [['0Art Tray'], ['1Afternoon', '2Weekday'], 0.58], [['0Truffles'], ['1Afternoon', '2Weekday'], 0.52], [['0Salad'], ['1Afternoon', '2Weekday'], 0.61], [['0Chicken Stew'], ['1Afternoon', '2Weekday'], 0.72], [['0Tshirt'], ['1Evening', '2Weekend'], 1.0]]\n"
     ]
    }
   ],
   "source": [
    "print(sets)"
   ]
  },
  {
   "cell_type": "code",
   "execution_count": 40,
   "id": "8b859d06-e804-4287-880e-46357d04ec3b",
   "metadata": {},
   "outputs": [
    {
     "name": "stdout",
     "output_type": "stream",
     "text": [
      "[[['0Bread'], ['2Weekday'], 0.63], [['0Scandinavian'], ['2Weekend'], 0.52], [['0Hot chocolate'], ['1Afternoon'], 0.57], [['0Hot chocolate'], ['2Weekday'], 0.58], [['0Jam'], ['1Morning'], 0.54], [['0Jam'], ['2Weekday'], 0.58], [['0Cookies'], ['1Afternoon'], 0.58], [['0Cookies'], ['2Weekday'], 0.74], [['0Muffin'], ['1Afternoon'], 0.56], [['0Muffin'], ['2Weekday'], 0.58], [['0Coffee'], ['1Afternoon'], 0.52], [['0Coffee'], ['2Weekday'], 0.65], [['0Pastry'], ['1Morning'], 0.71], [['0Pastry'], ['2Weekday'], 0.66], [['0Medialuna'], ['1Morning'], 0.65], [['0Medialuna'], ['2Weekday'], 0.55], [['0Tea'], ['1Afternoon'], 0.65], [['0Tea'], ['2Weekday'], 0.68], [['0Tartine'], ['1Afternoon'], 0.57], [['0Tartine'], ['2Weekday'], 0.51], [['0Mineral water'], ['1Afternoon'], 0.82], [['0Mineral water'], ['2Weekday'], 0.63], [['0Farm House'], ['1Morning'], 0.56], [['0Farm House'], ['2Weekday'], 0.66], [['0Fudge'], ['1Afternoon'], 0.57], [['0Fudge'], ['2Weekday'], 0.62], [['0Juice'], ['1Afternoon'], 0.61], [['0Juice'], ['2Weekday'], 0.62], [['0Frittata'], ['1Afternoon'], 0.94], [['0Frittata'], ['2Weekend'], 0.68], [['0Hearty & Seasonal'], ['1Afternoon'], 0.92], [['0Hearty & Seasonal'], ['2Weekday'], 0.62], [['0Soup'], ['1Afternoon'], 0.95], [['0Soup'], ['2Weekday'], 0.78], [['0Smoothies'], ['1Afternoon'], 0.71], [['0Smoothies'], ['2Weekend'], 0.57], [['0Cake'], ['1Afternoon'], 0.71], [['0Cake'], ['2Weekday'], 0.6], [['0Coke'], ['1Afternoon'], 0.76], [['0Coke'], ['2Weekday'], 0.69], [['0Focaccia'], ['1Afternoon'], 0.57], [['0Focaccia'], ['2Weekend'], 0.57], [['0Sandwich'], ['1Afternoon'], 0.87], [['0Sandwich'], ['2Weekday'], 0.66], [['0Alfajores'], ['1Afternoon'], 0.66], [['0Alfajores'], ['2Weekday'], 0.63], [['0Brownie'], ['1Afternoon'], 0.66], [['0Brownie'], ['2Weekday'], 0.55], [['0Keeping It Local'], ['1Morning'], 0.78], [['0Keeping It Local'], ['2Weekday'], 0.73], [['0Art Tray'], ['1Afternoon'], 0.82], [['0Art Tray'], ['2Weekday'], 0.68], [['0Truffles'], ['1Afternoon'], 0.79], [['0Truffles'], ['2Weekday'], 0.64], [['0Jammie Dodgers'], ['1Afternoon'], 0.66], [['0Jammie Dodgers'], ['2Weekday'], 0.5], [['0Tiffin'], ['1Afternoon'], 0.64], [['0Tiffin'], ['2Weekday'], 0.57], [['0The Nomad'], ['1Afternoon'], 0.53], [['0The Nomad'], ['2Weekend'], 0.67], [['0Bakewell'], ['1Afternoon'], 0.62], [['0Bakewell'], ['2Weekday'], 0.6], [['0Toast'], ['1Morning'], 0.64], [['0Toast'], ['2Weekday'], 0.72], [['0Scone'], ['1Afternoon'], 0.65], [['0Scone'], ['2Weekend'], 0.62], [['0Vegan mincepie'], ['1Afternoon'], 0.56], [['0Vegan mincepie'], ['2Weekday'], 0.63], [['0Afternoon with the baker'], ['2Weekend'], 0.59], [['0Salad'], ['1Afternoon'], 0.9], [['0Salad'], ['2Weekday'], 0.68], [['0Chicken Stew'], ['1Afternoon'], 0.95], [['0Chicken Stew'], ['2Weekday'], 0.76], [['0Spanish Brunch'], ['1Afternoon'], 0.72], [['0Spanish Brunch'], ['2Weekend'], 0.59], [['0Extra Salami or Feta'], ['1Afternoon'], 0.68], [['0Baguette'], ['1Morning'], 0.55], [['0Baguette'], ['2Weekday'], 0.64], [['0Tshirt'], ['1Evening'], 1.0], [['0Tshirt'], ['2Weekend'], 1.0], [['1Morning'], ['2Weekday'], 0.62], [['2Weekend'], ['1Afternoon'], 0.56], [['1Afternoon'], ['2Weekday'], 0.63], [['2Weekday'], ['1Afternoon'], 0.57], [['1Evening'], ['2Weekday'], 0.68], [['0Bread', '2Weekend'], ['1Morning'], 0.51], [['0Bread', '1Morning'], ['2Weekday'], 0.61], [['0Scandinavian', '1Morning'], ['2Weekend'], 0.56], [['0Scandinavian', '2Weekend'], ['1Morning'], 0.51], [['0Hot chocolate', '1Morning'], ['2Weekday'], 0.56], [['0Jam', '2Weekend'], ['1Morning'], 0.59], [['0Jam', '1Morning'], ['2Weekday'], 0.54], [['0Jam', '2Weekday'], ['1Morning'], 0.5], [['0Cookies', '1Morning'], ['2Weekday'], 0.73], [['0Muffin', '1Morning'], ['2Weekday'], 0.55], [['0Coffee', '1Morning'], ['2Weekday'], 0.66], [['0Pastry', '2Weekend'], ['1Morning'], 0.73], [['0Pastry', '1Morning'], ['2Weekday'], 0.65], [['0Pastry', '2Weekday'], ['1Morning'], 0.69], [['0Medialuna', '2Weekend'], ['1Morning'], 0.7], [['0Medialuna', '1Morning'], ['2Weekday'], 0.51], [['0Medialuna', '2Weekday'], ['1Morning'], 0.61], [['0Tea', '1Morning'], ['2Weekday'], 0.72], [['0Farm House', '2Weekend'], ['1Morning'], 0.61], [['0Farm House', '1Morning'], ['2Weekday'], 0.63], [['0Farm House', '2Weekday'], ['1Morning'], 0.54], [['0Fudge', '1Morning'], ['2Weekday'], 0.54], [['0Juice', '1Morning'], ['2Weekday'], 0.62], [['0Cake', '1Morning'], ['2Weekday'], 0.58], [['0Coke', '1Morning'], ['2Weekday'], 0.66], [['0Sandwich', '1Morning'], ['2Weekday'], 0.68], [['0Alfajores', '1Morning'], ['2Weekday'], 0.66], [['0Brownie', '1Morning'], ['2Weekend'], 0.5], [['0Keeping It Local'], ['1Morning', '2Weekday'], 0.6], [['0Keeping It Local', '1Morning'], ['2Weekday'], 0.78], [['0Keeping It Local', '2Weekday'], ['1Morning'], 0.83], [['0Jammie Dodgers', '1Morning'], ['2Weekday'], 0.59], [['0Tiffin', '1Morning'], ['2Weekend'], 0.51], [['0Toast', '2Weekend'], ['1Morning'], 0.62], [['0Toast', '1Morning'], ['2Weekday'], 0.73], [['0Toast', '2Weekday'], ['1Morning'], 0.65], [['0Scone', '1Morning'], ['2Weekend'], 0.82], [['0Spanish Brunch', '1Morning'], ['2Weekend'], 0.71], [['0Baguette', '2Weekend'], ['1Morning'], 0.7], [['0Baguette', '1Morning'], ['2Weekday'], 0.55], [['0Bread', '1Afternoon'], ['2Weekday'], 0.64], [['0Bread', '2Weekday'], ['1Afternoon'], 0.51], [['0Bread', '1Evening'], ['2Weekday'], 0.83], [['0Scandinavian', '1Afternoon'], ['2Weekday'], 0.5], [['0Scandinavian', '2Weekday'], ['1Afternoon'], 0.51], [['0Hot chocolate', '2Weekend'], ['1Afternoon'], 0.55], [['0Hot chocolate', '1Afternoon'], ['2Weekday'], 0.59], [['0Hot chocolate', '2Weekday'], ['1Afternoon'], 0.58], [['0Jam', '1Afternoon'], ['2Weekday'], 0.59], [['0Cookies', '2Weekend'], ['1Afternoon'], 0.6], [['0Cookies', '1Afternoon'], ['2Weekday'], 0.73], [['0Cookies', '2Weekday'], ['1Afternoon'], 0.57], [['0Muffin', '2Weekend'], ['1Afternoon'], 0.54], [['0Muffin', '1Afternoon'], ['2Weekday'], 0.59], [['0Muffin', '2Weekday'], ['1Afternoon'], 0.57], [['0Coffee', '2Weekend'], ['1Afternoon'], 0.53], [['0Coffee', '1Afternoon'], ['2Weekday'], 0.64], [['0Coffee', '2Weekday'], ['1Afternoon'], 0.51], [['0Pastry', '1Afternoon'], ['2Weekday'], 0.69], [['0Medialuna', '1Afternoon'], ['2Weekday'], 0.61], [['0Tea', '2Weekend'], ['1Afternoon'], 0.7], [['0Tea', '1Afternoon'], ['2Weekday'], 0.65], [['0Tea', '2Weekday'], ['1Afternoon'], 0.62], [['0Mineral water', '2Weekend'], ['1Afternoon'], 0.8], [['0Mineral water'], ['1Afternoon', '2Weekday'], 0.52], [['0Mineral water', '1Afternoon'], ['2Weekday'], 0.64], [['0Mineral water', '2Weekday'], ['1Afternoon'], 0.83], [['0Farm House', '1Afternoon'], ['2Weekday'], 0.68], [['0Fudge', '2Weekend'], ['1Afternoon'], 0.56], [['0Fudge', '1Afternoon'], ['2Weekday'], 0.62], [['0Fudge', '2Weekday'], ['1Afternoon'], 0.57], [['0Juice', '2Weekend'], ['1Afternoon'], 0.61], [['0Juice', '1Afternoon'], ['2Weekday'], 0.62], [['0Juice', '2Weekday'], ['1Afternoon'], 0.61], [['0Frittata'], ['1Afternoon', '2Weekend'], 0.63], [['0Frittata', '1Afternoon'], ['2Weekend'], 0.67], [['0Frittata', '2Weekend'], ['1Afternoon'], 0.93], [['0Frittata', '2Weekday'], ['1Afternoon'], 0.96], [['0Hearty & Seasonal', '2Weekend'], ['1Afternoon'], 0.83], [['0Hearty & Seasonal'], ['1Afternoon', '2Weekday'], 0.6], [['0Hearty & Seasonal', '1Afternoon'], ['2Weekday'], 0.65], [['0Hearty & Seasonal', '2Weekday'], ['1Afternoon'], 0.97], [['0Soup', '2Weekend'], ['1Afternoon'], 0.93], [['0Soup'], ['1Afternoon', '2Weekday'], 0.75], [['0Soup', '1Afternoon'], ['2Weekday'], 0.79], [['0Soup', '2Weekday'], ['1Afternoon'], 0.96], [['0Smoothies', '1Afternoon'], ['2Weekend'], 0.6], [['0Smoothies', '2Weekend'], ['1Afternoon'], 0.75], [['0Smoothies', '2Weekday'], ['1Afternoon'], 0.67], [['0Cake', '2Weekend'], ['1Afternoon'], 0.71], [['0Cake', '1Afternoon'], ['2Weekday'], 0.6], [['0Cake', '2Weekday'], ['1Afternoon'], 0.71], [['0Coke', '2Weekend'], ['1Afternoon'], 0.67], [['0Coke'], ['1Afternoon', '2Weekday'], 0.55], [['0Coke', '1Afternoon'], ['2Weekday'], 0.72], [['0Coke', '2Weekday'], ['1Afternoon'], 0.8], [['0Sandwich', '2Weekend'], ['1Afternoon'], 0.88], [['0Sandwich'], ['1Afternoon', '2Weekday'], 0.57], [['0Sandwich', '1Afternoon'], ['2Weekday'], 0.66], [['0Sandwich', '2Weekday'], ['1Afternoon'], 0.86], [['0Alfajores', '2Weekend'], ['1Afternoon'], 0.72], [['0Alfajores', '1Afternoon'], ['2Weekday'], 0.6], [['0Alfajores', '2Weekday'], ['1Afternoon'], 0.63], [['0Brownie', '2Weekend'], ['1Afternoon'], 0.64], [['0Brownie', '1Afternoon'], ['2Weekday'], 0.56], [['0Brownie', '2Weekday'], ['1Afternoon'], 0.67], [['0Art Tray'], ['1Afternoon', '2Weekday'], 0.58], [['0Art Tray', '1Afternoon'], ['2Weekday'], 0.71], [['0Art Tray', '2Weekday'], ['1Afternoon'], 0.85], [['0Truffles', '2Weekend'], ['1Afternoon'], 0.75], [['0Truffles'], ['1Afternoon', '2Weekday'], 0.52], [['0Truffles', '1Afternoon'], ['2Weekday'], 0.66], [['0Truffles', '2Weekday'], ['1Afternoon'], 0.81], [['0Jammie Dodgers', '1Afternoon'], ['2Weekend'], 0.55], [['0Jammie Dodgers', '2Weekend'], ['1Afternoon'], 0.74], [['0Jammie Dodgers', '2Weekday'], ['1Afternoon'], 0.59], [['0Tiffin', '2Weekend'], ['1Afternoon'], 0.6], [['0Tiffin', '1Afternoon'], ['2Weekday'], 0.59], [['0Tiffin', '2Weekday'], ['1Afternoon'], 0.66], [['0The Nomad', '1Afternoon'], ['2Weekend'], 0.71], [['0The Nomad', '2Weekend'], ['1Afternoon'], 0.56], [['0Toast', '1Afternoon'], ['2Weekday'], 0.7], [['0Scone', '1Afternoon'], ['2Weekend'], 0.52], [['0Scone', '2Weekend'], ['1Afternoon'], 0.55], [['0Scone', '2Weekday'], ['1Afternoon'], 0.82], [['0Salad', '2Weekend'], ['1Afternoon'], 0.91], [['0Salad'], ['1Afternoon', '2Weekday'], 0.61], [['0Salad', '1Afternoon'], ['2Weekday'], 0.67], [['0Salad', '2Weekday'], ['1Afternoon'], 0.9], [['0Chicken Stew', '2Weekend'], ['1Afternoon'], 0.97], [['0Chicken Stew'], ['1Afternoon', '2Weekday'], 0.72], [['0Chicken Stew', '1Afternoon'], ['2Weekday'], 0.75], [['0Chicken Stew', '2Weekday'], ['1Afternoon'], 0.95], [['0Spanish Brunch', '1Afternoon'], ['2Weekend'], 0.54], [['0Spanish Brunch', '2Weekend'], ['1Afternoon'], 0.66], [['0Spanish Brunch', '2Weekday'], ['1Afternoon'], 0.8], [['0Baguette', '1Afternoon'], ['2Weekday'], 0.76], [['0Baguette', '2Weekday'], ['1Afternoon'], 0.52], [['0Coffee', '1Evening'], ['2Weekday'], 0.76], [['0Tea', '1Evening'], ['2Weekday'], 0.82], [['0Cake', '1Evening'], ['2Weekday'], 0.77], [['0Tshirt'], ['1Evening', '2Weekend'], 1.0], [['0Tshirt', '1Evening'], ['2Weekend'], 1.0], [['0Tshirt', '2Weekend'], ['1Evening'], 1.0]]\n"
     ]
    }
   ],
   "source": [
    "print(sets)"
   ]
  },
  {
   "cell_type": "code",
   "execution_count": 20,
   "id": "70ea0c77-797f-4267-adcb-17199817c0a4",
   "metadata": {},
   "outputs": [
    {
     "name": "stdout",
     "output_type": "stream",
     "text": [
      "['1Morning', '3Weekend', '5Bread']\n"
     ]
    }
   ],
   "source": [
    "print(fes)"
   ]
  },
  {
   "cell_type": "code",
   "execution_count": null,
   "id": "214d564a-a75e-4f20-9f37-5c312eab15c7",
   "metadata": {},
   "outputs": [],
   "source": []
  }
 ],
 "metadata": {
  "kernelspec": {
   "display_name": "Python 3 (ipykernel)",
   "language": "python",
   "name": "python3"
  },
  "language_info": {
   "codemirror_mode": {
    "name": "ipython",
    "version": 3
   },
   "file_extension": ".py",
   "mimetype": "text/x-python",
   "name": "python",
   "nbconvert_exporter": "python",
   "pygments_lexer": "ipython3",
   "version": "3.9.6"
  }
 },
 "nbformat": 4,
 "nbformat_minor": 5
}
